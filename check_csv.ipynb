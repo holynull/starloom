{
 "cells": [
  {
   "cell_type": "code",
   "execution_count": 2,
   "metadata": {},
   "outputs": [],
   "source": [
    "import csv\n",
    "\n",
    "with open(\"chinese_unicode_table.csv\", 'r') as csvfile:\n",
    "    reader = csv.reader(csvfile)\n",
    "    for i, row in enumerate(reader):\n",
    "        if len(row) != 9:\n",
    "            print(f\"行{i}不满足9列的条件\")"
   ]
  },
  {
   "cell_type": "code",
   "execution_count": 5,
   "metadata": {},
   "outputs": [
    {
     "name": "stdout",
     "output_type": "stream",
     "text": [
      "['10']\n"
     ]
    }
   ],
   "source": [
    "import pandas as pd\n",
    "\n",
    "def match_and_return(filename, target):\n",
    "\tdf = pd.read_csv(filename, header=None) # 假设文件没有列头\n",
    "\tmatches = df[df[0] == target][6] # df[0] 表示第1列，df[6] 表示第7列\n",
    "\treturn matches.values.tolist()\n",
    "\n",
    "# 使用函数\n",
    "target_string = \"高\"\n",
    "result = match_and_return('chinese_unicode_table.csv', target_string)\n",
    "print(result)"
   ]
  }
 ],
 "metadata": {
  "kernelspec": {
   "display_name": ".venv",
   "language": "python",
   "name": "python3"
  },
  "language_info": {
   "codemirror_mode": {
    "name": "ipython",
    "version": 3
   },
   "file_extension": ".py",
   "mimetype": "text/x-python",
   "name": "python",
   "nbconvert_exporter": "python",
   "pygments_lexer": "ipython3",
   "version": "3.10.6"
  },
  "orig_nbformat": 4
 },
 "nbformat": 4,
 "nbformat_minor": 2
}
