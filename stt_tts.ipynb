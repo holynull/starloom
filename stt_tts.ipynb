{
 "cells": [
  {
   "cell_type": "code",
   "execution_count": null,
   "metadata": {},
   "outputs": [],
   "source": [
    "from dotenv import load_dotenv\n",
    "from openai import OpenAI\n",
    "\n",
    "load_dotenv(dotenv_path=\"env\")\n",
    "\n",
    "client = OpenAI()\n",
    "\n",
    "my_assistants = client.beta.assistants.list(\n",
    "    order=\"desc\",\n",
    "    limit=\"20\",\n",
    ")\n",
    "print(\"My assistants before cleaning:\")\n",
    "for assistant in my_assistants:\n",
    "    print(assistant)\n",
    "# for assistant in my_assistants.data:\n",
    "#     client.beta.assistants.delete(assistant_id=assistant.id)\n",
    "# my_assistants = client.beta.assistants.list(\n",
    "#     order=\"desc\",\n",
    "#     limit=\"20\",\n",
    "# )\n",
    "# print(\"My assistants after cleaning:\")\n",
    "# for assistant in my_assistants:\n",
    "#     print(assistant)"
   ]
  },
  {
   "cell_type": "code",
   "execution_count": null,
   "metadata": {
    "vscode": {
     "languageId": "shellscript"
    }
   },
   "outputs": [],
   "source": [
    "pip install sounddevice scipy"
   ]
  },
  {
   "cell_type": "code",
   "execution_count": 1,
   "metadata": {},
   "outputs": [
    {
     "name": "stdout",
     "output_type": "stream",
     "text": [
      "Please speech ...\n",
      "Recording speech done!\n",
      "You:请帮我生成一张折线图\n"
     ]
    }
   ],
   "source": [
    "import sounddevice as sd\n",
    "from scipy.io.wavfile import write\n",
    "\n",
    "fs = 44100  # 设定采样率（Sample rate）\n",
    "seconds = 10  # 设定录音时间，例如10秒\n",
    "\n",
    "print(\"Please speech ...\")\n",
    "myrecording = sd.rec(int(seconds * fs), samplerate=fs, channels=1)\n",
    "sd.wait()  # 等待录音结束\n",
    "print(\"Recording speech done!\")\n",
    "\n",
    "write(\"your_input.wav\", fs, myrecording)  # 保存为 WAV 文件\n",
    "\n",
    "from dotenv import load_dotenv\n",
    "from openai import OpenAI\n",
    "\n",
    "load_dotenv(dotenv_path=\"env\")\n",
    "\n",
    "client = OpenAI()\n",
    "\n",
    "audio_file = open(\"your_input.wav\", \"rb\")\n",
    "transcript = client.audio.transcriptions.create(model=\"whisper-1\", file=audio_file)\n",
    "print(f\"You:{transcript.text}\")"
   ]
  }
 ],
 "metadata": {
  "kernelspec": {
   "display_name": ".venv",
   "language": "python",
   "name": "python3"
  },
  "language_info": {
   "codemirror_mode": {
    "name": "ipython",
    "version": 3
   },
   "file_extension": ".py",
   "mimetype": "text/x-python",
   "name": "python",
   "nbconvert_exporter": "python",
   "pygments_lexer": "ipython3",
   "version": "3.10.6"
  }
 },
 "nbformat": 4,
 "nbformat_minor": 2
}
