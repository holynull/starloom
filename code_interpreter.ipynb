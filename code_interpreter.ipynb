{
 "cells": [
  {
   "cell_type": "code",
   "execution_count": null,
   "metadata": {
    "vscode": {
     "languageId": "shellscript"
    }
   },
   "outputs": [],
   "source": [
    "pip install \"codeinterpreterapi[all]\""
   ]
  },
  {
   "cell_type": "code",
   "execution_count": 2,
   "metadata": {},
   "outputs": [
    {
     "name": "stdout",
     "output_type": "stream",
     "text": [
      "INFO: Using a LocalBox which is not fully isolated\n",
      "      and not scalable across multiple users.\n",
      "      Make sure to use a CODEBOX_API_KEY in production.\n",
      "      Set envar SHOW_INFO=False to not see this again.\n",
      "\n",
      "DEPRECATION WARNING: Use agenerate_response for async generation.\n",
      "This function will be converted to sync in the future.\n",
      "You can use generate_response_sync for now.\n"
     ]
    },
    {
     "name": "stderr",
     "output_type": "stream",
     "text": [
      "Retrying langchain.chat_models.openai.acompletion_with_retry.<locals>._completion_with_retry in 4.0 seconds as it raised APIConnectionError: Error communicating with OpenAI.\n",
      "Retrying langchain.chat_models.openai.acompletion_with_retry.<locals>._completion_with_retry in 4.0 seconds as it raised APIConnectionError: Error communicating with OpenAI.\n"
     ]
    },
    {
     "name": "stdout",
     "output_type": "stream",
     "text": [
      "AI:  Sorry, something went while generating your response.Please try again or restart the session.\n"
     ]
    },
    {
     "data": {
      "text/plain": [
       "<SessionStatus status=stopped>"
      ]
     },
     "execution_count": 2,
     "metadata": {},
     "output_type": "execute_result"
    }
   ],
   "source": [
    "from codeinterpreterapi import CodeInterpreterSession\n",
    "from dotenv import load_dotenv\n",
    "\n",
    "load_dotenv(dotenv_path=\".env\")\n",
    "\n",
    "# create a session\n",
    "session = CodeInterpreterSession()\n",
    "await session.astart()\n",
    "\n",
    "# generate a response based on user input\n",
    "response = await session.generate_response(\n",
    "    \"Plot the bitcoin chart of 2023 YTD\"\n",
    ")\n",
    "\n",
    "# output the response (text + image)\n",
    "print(\"AI: \", response.content)\n",
    "for file in response.files:\n",
    "    file.show_image()\n",
    "\n",
    "# terminate the session\n",
    "await session.astop()"
   ]
  }
 ],
 "metadata": {
  "kernelspec": {
   "display_name": ".venv",
   "language": "python",
   "name": "python3"
  },
  "language_info": {
   "codemirror_mode": {
    "name": "ipython",
    "version": 3
   },
   "file_extension": ".py",
   "mimetype": "text/x-python",
   "name": "python",
   "nbconvert_exporter": "python",
   "pygments_lexer": "ipython3",
   "version": "3.10.6"
  },
  "orig_nbformat": 4
 },
 "nbformat": 4,
 "nbformat_minor": 2
}
