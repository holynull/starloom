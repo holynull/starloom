{
 "cells": [
  {
   "cell_type": "code",
   "execution_count": 1,
   "metadata": {},
   "outputs": [
    {
     "name": "stdout",
     "output_type": "stream",
     "text": [
      "Starting kernel...\n",
      "Waiting for kernel to start...\n",
      "Waiting for kernel to start...\n"
     ]
    },
    {
     "name": "stderr",
     "output_type": "stream",
     "text": [
      "/Users/zhangleping/github.com/holynull/starloom/.venv/lib/python3.10/site-packages/traitlets/traitlets.py:2548: FutureWarning: Supporting extra quotes around strings is deprecated in traitlets 5.0. You can use '0.0.0.0' instead of \"'0.0.0.0'\" if you require traitlets >=5.\n",
      "  warn(\n",
      "[I 2023-11-06 15:03:04.688 KernelGatewayApp] Jupyter Kernel Gateway 2.5.2 is available at http://0.0.0.0:8888\n",
      "[I 231106 15:03:05 web:2344] 200 GET /api (127.0.0.1) 1.06ms\n",
      "[I 2023-11-06 15:03:06.127 KernelGatewayApp] Kernel started: 7f6dc862-0adb-41b9-abe3-afcdbcc1b03b, name: python3\n",
      "[I 231106 15:03:06 web:2344] 201 POST /api/kernels (127.0.0.1) 702.02ms\n",
      "[W 2023-11-06 15:03:06.133 KernelGatewayApp] No session ID specified\n"
     ]
    },
    {
     "name": "stdout",
     "output_type": "stream",
     "text": [
      "Running code:\n",
      " a = 'Hello World!'\n",
      "Running code:\n",
      " pr int(a)\n",
      "Error:\n",
      " SyntaxError: invalid syntax (1610963122.py, line 1)\n",
      "===================================Output===================================\n",
      "error\n",
      "SyntaxError: invalid syntax (1610963122.py, line 1)\n"
     ]
    },
    {
     "name": "stderr",
     "output_type": "stream",
     "text": [
      "[I 231106 15:03:06 web:2344] 101 GET /api/kernels/7f6dc862-0adb-41b9-abe3-afcdbcc1b03b/channels (127.0.0.1) 833.66ms\n",
      "[I 2023-11-06 15:03:06.998 KernelGatewayApp] Received signal to terminate.\n",
      "[I 2023-11-06 15:03:06.999 KernelGatewayApp] Kernel shutdown: 7f6dc862-0adb-41b9-abe3-afcdbcc1b03b\n"
     ]
    }
   ],
   "source": [
    "from codeboxapi import CodeBox\n",
    "import codeboxapi\n",
    "codeboxapi.settings.VERBOSE=True\n",
    "with CodeBox(verbose=True) as codebox:\n",
    "    # await codebox.astatus()\n",
    "    codebox.run(\"a = 'Hello World!'\")\n",
    "    output = codebox.run(\"pr int(a)\")\n",
    "    print(\"=\"*35+\"Output\"+\"=\"*35)\n",
    "    print(output.type)\n",
    "    print(output)"
   ]
  }
 ],
 "metadata": {
  "kernelspec": {
   "display_name": ".venv",
   "language": "python",
   "name": "python3"
  },
  "language_info": {
   "codemirror_mode": {
    "name": "ipython",
    "version": 3
   },
   "file_extension": ".py",
   "mimetype": "text/x-python",
   "name": "python",
   "nbconvert_exporter": "python",
   "pygments_lexer": "ipython3",
   "version": "3.10.6"
  }
 },
 "nbformat": 4,
 "nbformat_minor": 2
}
